{
 "metadata": {},
 "nbformat": 3,
 "nbformat_minor": 0,
 "worksheets": [
  {
   "cells": [
    {
     "cell_type": "markdown",
     "metadata": {},
     "source": [
      "<!-- newcommands.tex -->\n",
      "$$\n",
      "\\newcommand{\\tp}{\\thinspace .}\n",
      "\\renewcommand{\\Re}{\\bbbr}\n",
      "\n",
      "\\newcommand{\\rhodim}{\\mbox{kgm}^{-3}}\n",
      "\\newcommand{\\mudim}{\\mbox{kg}\\,\\mbox{s}^{-1}\\mbox{m}^{-1}}\n",
      "\\newcommand{\\Cdim}{\\mbox{kg}\\,\\mbox{s}^{-1}}\n",
      "\n",
      "\n",
      "\\newcommand{\\Oof}[1]{\\mathcal{O}(#1)}\n",
      "\\newcommand{\\Prob}[1]{\\hbox{P}(#1)}\n",
      "\\newcommand{\\Var}[1]{\\hbox{Var}(#1)}\n",
      "\\newcommand{\\Cov}[2]{\\hbox{Cov}(#1,#2)}\n",
      "\\newcommand{\\StDev}[1]{\\hbox{StDev}(#1)}\n",
      "$$\n",
      "\n",
      "# Ch.3: Functions and branching\n",
      "**Aug 22, 2014**\n",
      "\n",
      "<!-- !split -->\n",
      "### We have used many Python functions\n",
      "\n",
      "Mathematical functions:"
     ]
    },
    {
     "cell_type": "code",
     "collapsed": false,
     "input": [
      "from math import *\n",
      "y = sin(x)*log(x)\n"
     ],
     "language": "python",
     "metadata": {},
     "outputs": [],
     "prompt_number": 1
    },
    {
     "cell_type": "markdown",
     "metadata": {},
     "source": [
      "Other functions:"
     ]
    },
    {
     "cell_type": "code",
     "collapsed": false,
     "input": [
      "n = len(somelist)\n",
      "ints = range(5, n, 2)\n"
     ],
     "language": "python",
     "metadata": {},
     "outputs": [],
     "prompt_number": 1
    },
    {
     "cell_type": "markdown",
     "metadata": {},
     "source": [
      "Functions used with the dot syntax (called *methods*):"
     ]
    },
    {
     "cell_type": "code",
     "collapsed": false,
     "input": [
      "C = [5, 10, 40, 45]\n",
      "i = C.index(10)        # result: i=1\n",
      "C.append(50)\n",
      "C.insert(2, 20)\n"
     ],
     "language": "python",
     "metadata": {},
     "outputs": [],
     "prompt_number": 1
    },
    {
     "cell_type": "markdown",
     "metadata": {},
     "source": [
      "What is a function? So far we have seen that we put some objects\n",
      "in and sometimes get an object (result) out of functions.\n",
      "Now it is time to write our own functions!\n",
      "\n",
      "\n",
      "\n",
      "<!-- !split -->\n",
      "### Python functions\n",
      "\n",
      "  * Function = a collection of statements we can execute wherever and whenever we want\n",
      "\n",
      "  * Function can take input objects and produce output objects\n",
      "\n",
      "  * Functions help to organize programs, make them more understandable, shorter, and easier to extend\n",
      "\n",
      "Simple example: a mathematical function $F(C)={9\\over5}C+32$"
     ]
    },
    {
     "cell_type": "code",
     "collapsed": false,
     "input": [
      "def F(C):\n",
      "    return (9.0/5)*C + 32\n"
     ],
     "language": "python",
     "metadata": {},
     "outputs": [],
     "prompt_number": 1
    },
    {
     "cell_type": "markdown",
     "metadata": {},
     "source": [
      "Note:\n",
      "\n",
      "  * Functions start with `def`, then the name of the function, then a list of arguments (here `C`)  - the *function header*\n",
      "\n",
      "  * Inside the function: statements - the *function body*\n",
      "\n",
      "  * Wherever we want, inside the function, we can \"stop the function\" and return as many values/variables we want\n",
      "\n",
      "\n",
      "\n",
      "<!-- !split -->\n",
      "### Functions must be called\n",
      "\n",
      "  * A function does not do anything before it is called"
     ]
    },
    {
     "cell_type": "code",
     "collapsed": false,
     "input": [
      "a = 10\n",
      "F1 = F(a)                              # call\n",
      "temp = F(15.5)                         # call\n",
      "print F(a+1)                           # call\n",
      "sum_temp = F(10) + F(20)               # two calls\n",
      "Fdegrees = [F(C) for C in Cdegrees]    # multiple calls\n"
     ],
     "language": "python",
     "metadata": {},
     "outputs": [],
     "prompt_number": 1
    },
    {
     "cell_type": "markdown",
     "metadata": {},
     "source": [
      "Note: Since `F(C)` produces (returns) a `float` object, we can call `F(C)` everywhere a `float` can be used\n",
      "\n",
      "\n",
      "\n",
      "<!-- !split -->\n",
      "### Local variables in Functions\n",
      "\n",
      "Example: sum the integers from `start` to `stop`"
     ]
    },
    {
     "cell_type": "code",
     "collapsed": false,
     "input": [
      "def sumint(start, stop):\n",
      "    s = 0      # variable for accumulating the sum\n",
      "    i = start  # counter\n",
      "    while i <= stop:\n",
      "        s += i\n",
      "        i += 1\n",
      "    return s\n",
      "\n",
      "print sumint(0, 10)\n",
      "sum_10_100 = sumint(10, 100)\n"
     ],
     "language": "python",
     "metadata": {},
     "outputs": [],
     "prompt_number": 1
    },
    {
     "cell_type": "markdown",
     "metadata": {},
     "source": [
      "Note:\n",
      "\n",
      "  * `i` and `s` are local variables in `sumint` - these are destroyed at the end (return) of the function and never visible outside the function (in the calling program); in fact, `start` and `stop` are also local variables\n",
      "\n",
      "  * There is one global variable: `sum_10_100`, visible everywhere\n",
      "\n",
      "  * Read Chapter 3.1.3 in the book about local and global variables!\n",
      "\n",
      "\n",
      "\n",
      "<!-- !split -->\n",
      "### Turn a formula into a Python function\n",
      "\n",
      "Formula: $y(t) = v_0t- \\frac{1}{2}gt^2$. Make a Python function of it:"
     ]
    },
    {
     "cell_type": "code",
     "collapsed": false,
     "input": [
      "def yfunc(t, v0):\n",
      "    g = 9.81\n",
      "    return v0*t - 0.5*g*t**2\n",
      "\n",
      "# sample calls:\n",
      "y = yfunc(0.1, 6)\n",
      "y = yfunc(0.1, v0=6)\n",
      "y = yfunc(t=0.1, v0=6)\n",
      "y = yfunc(v0=6, t=0.1)\n"
     ],
     "language": "python",
     "metadata": {},
     "outputs": [],
     "prompt_number": 1
    },
    {
     "cell_type": "markdown",
     "metadata": {},
     "source": [
      "Functions can have as many arguments as you like.\n",
      "\n",
      "\n",
      "\n",
      "<!-- !split -->\n",
      "### Function arguments become local variables"
     ]
    },
    {
     "cell_type": "code",
     "collapsed": false,
     "input": [
      "def yfunc(t, v0):\n",
      "    g = 9.81\n",
      "    return v0*t - 0.5*g*t**2\n"
     ],
     "language": "python",
     "metadata": {},
     "outputs": [],
     "prompt_number": 1
    },
    {
     "cell_type": "markdown",
     "metadata": {},
     "source": [
      "When calling `yfunc(0.1, 6)`, all these statements are in fact executed:"
     ]
    },
    {
     "cell_type": "code",
     "collapsed": false,
     "input": [
      "t = 0.1  # arguments get values as in standard assignments\n",
      "v0 = 6\n",
      "g = 9.81\n",
      "return v0*t - 0.5*g*t**2\n",
      "# local variables t, v0, g are destroyed\n"
     ],
     "language": "python",
     "metadata": {},
     "outputs": [],
     "prompt_number": 1
    },
    {
     "cell_type": "markdown",
     "metadata": {},
     "source": [
      "<!-- !split -->\n",
      "### Functions may access global variables\n",
      "\n",
      "The `y(t,v0)` function took two arguments.\n",
      "Could implement $y(t)$ as a function of $t$ only:"
     ]
    },
    {
     "cell_type": "code",
     "collapsed": false,
     "input": [
      "def yfunc(t):\n",
      "    g = 9.81\n",
      "    return v0*t - 0.5*g*t**2\n",
      "yfunc(0.6)"
     ],
     "language": "python",
     "metadata": {},
     "outputs": [],
     "prompt_number": 1
    },
    {
     "cell_type": "markdown",
     "metadata": {},
     "source": [
      "Problem: `v0` must be defined in the calling program program before\n",
      "we call `yfunc`"
     ]
    },
    {
     "cell_type": "code",
     "collapsed": false,
     "input": [
      "v0 = 5\n",
      "yfunc(0.6)"
     ],
     "language": "python",
     "metadata": {},
     "outputs": [],
     "prompt_number": 1
    },
    {
     "cell_type": "markdown",
     "metadata": {},
     "source": [
      "Note:\n",
      "\n",
      "  * `v0` is a global variable\n",
      "\n",
      "  * Global variables are variables defined outside functions\n",
      "\n",
      "  * Global variables are visible everywhere in a program\n",
      "\n",
      "  * `g` is a local variable, not visible outside of `yfunc`\n",
      "\n",
      "\n",
      "\n",
      "<!-- !split -->\n",
      "### Functions can return multiple values\n",
      "\n",
      "Say we want to compute $y(t)$ and $y'(t)=v_0-gt$:"
     ]
    },
    {
     "cell_type": "code",
     "collapsed": false,
     "input": [
      "def yfunc(t, v0):\n",
      "    g = 9.81\n",
      "    y = v0*t - 0.5*g*t**2\n",
      "    dydt = v0 - g*t\n",
      "    return y, dydt\n",
      "\n",
      "# call:\n",
      "position, velocity = yfunc(0.6, 3)\n"
     ],
     "language": "python",
     "metadata": {},
     "outputs": [],
     "prompt_number": 1
    },
    {
     "cell_type": "markdown",
     "metadata": {},
     "source": [
      "Separate the objects to be returned by comma, assign to variables\n",
      "separated by comma. Actually, a tuple is returned:"
     ]
    },
    {
     "cell_type": "code",
     "collapsed": false,
     "input": [
      "def f(x):\n",
      "    return x, x**2, x**4\n",
      "s = f(2)\n",
      "s\n",
      "type(s)\n",
      "x, x2, x4 = f(2)"
     ],
     "language": "python",
     "metadata": {},
     "outputs": [],
     "prompt_number": 1
    },
    {
     "cell_type": "markdown",
     "metadata": {},
     "source": [
      "<!-- !split -->\n",
      "### Example: Compute a function defined as a sum\n",
      "\n",
      "The function"
     ]
    },
    {
     "cell_type": "markdown",
     "metadata": {},
     "source": [
      "$$\n",
      "L(x;n) = \\sum_{i=1}^n {1\\over i}\\left( {x\\over 1+x}\\right)^{i}\n",
      "$$"
     ]
    },
    {
     "cell_type": "markdown",
     "metadata": {},
     "source": [
      "is an approximation to $\\ln (1+x)$ for a finite $n$ and $x\\geq 1$.\n",
      "\n",
      "Make a Python function for $L(x;n)$:"
     ]
    },
    {
     "cell_type": "code",
     "collapsed": false,
     "input": [
      "def L(x, n):\n",
      "    x = float(x)  # ensure float division below\n",
      "    s = 0\n",
      "    for i in range(1, n+1):\n",
      "        s += (1.0/i)*(x/(1+x))**i\n",
      "    return s\n",
      "\n",
      "x = 5\n",
      "from math import log as ln\n",
      "print L(x, 10), L(x, 100), ln(1+x)\n"
     ],
     "language": "python",
     "metadata": {},
     "outputs": [],
     "prompt_number": 1
    },
    {
     "cell_type": "markdown",
     "metadata": {},
     "source": [
      "<!-- !split -->\n",
      "### Returning errors as well from the L(x, n) function\n",
      "\n",
      "We can return more: also the first neglected term in the sum and the error ($\\ln (1+x) - L(x;n)$):"
     ]
    },
    {
     "cell_type": "code",
     "collapsed": false,
     "input": [
      "def L2(x, n):\n",
      "    x = float(x)\n",
      "    s = 0\n",
      "    for i in range(1, n+1):\n",
      "        s += (1.0/i)*(x/(1+x))**i\n",
      "    value_of_sum = s\n",
      "    first_neglected_term = (1.0/(n+1))*(x/(1+x))**(n+1)\n",
      "    from math import log\n",
      "    exact_error = log(1+x) - value_of_sum\n",
      "    return value_of_sum, first_neglected_term, exact_error\n",
      "\n",
      "# typical call:\n",
      "x = 1.2; n = 100\n",
      "value, approximate_error, exact_error = L2(x, n)\n"
     ],
     "language": "python",
     "metadata": {},
     "outputs": [],
     "prompt_number": 1
    },
    {
     "cell_type": "markdown",
     "metadata": {},
     "source": [
      "<!-- !split -->\n",
      "### Functions do not need to return objects"
     ]
    },
    {
     "cell_type": "code",
     "collapsed": false,
     "input": [
      "def somefunc(obj):\n",
      "    print obj\n",
      "\n",
      "return_value = somefunc(3.4)\n"
     ],
     "language": "python",
     "metadata": {},
     "outputs": [],
     "prompt_number": 1
    },
    {
     "cell_type": "markdown",
     "metadata": {},
     "source": [
      "Here, `return_value` becomes `None` because if we do not explicitly return something, Python will insert `return None`.\n",
      "\n",
      "\n",
      "\n",
      "<!-- !split -->\n",
      "### Example on a function without return value\n",
      "\n",
      "Let us make a table of $L(x;n)$ versus the exact $\\ln (1+x)$:"
     ]
    },
    {
     "cell_type": "code",
     "collapsed": false,
     "input": [
      "def table(x):\n",
      "    print '\\nx=%g, ln(1+x)=%g' % (x, log(1+x))\n",
      "    for n in [1, 2, 10, 100, 500]:\n",
      "        value, next, error = L2(x, n)\n",
      "        print 'n=%-4d %-10g  (next term: %8.2e  '\\\n",
      "              'error: %8.2e)' % (n, value, next, error)\n"
     ],
     "language": "python",
     "metadata": {},
     "outputs": [],
     "prompt_number": 1
    },
    {
     "cell_type": "markdown",
     "metadata": {},
     "source": [
      "No need to return anything here - the purpose is to print."
     ]
    },
    {
     "cell_type": "code",
     "collapsed": false,
     "input": [
      "x=10, ln(1+x)=2.3979\n",
      "n=1    0.909091    (next term: 4.13e-01  error: 1.49e+00)\n",
      "n=2    1.32231     (next term: 2.50e-01  error: 1.08e+00)\n",
      "n=10   2.17907     (next term: 3.19e-02  error: 2.19e-01)\n",
      "n=100  2.39789     (next term: 6.53e-07  error: 6.59e-06)\n",
      "n=500  2.3979      (next term: 3.65e-24  error: 6.22e-15)\n"
     ],
     "language": "python",
     "metadata": {},
     "outputs": [],
     "prompt_number": 1
    },
    {
     "cell_type": "markdown",
     "metadata": {},
     "source": [
      "<!-- !split -->\n",
      "### Keyword arguments are useful to simplify function calls and help document the arguments\n",
      "\n",
      "Functions can have arguments of the form `name=value`,\n",
      "called *keyword arguments*:"
     ]
    },
    {
     "cell_type": "code",
     "collapsed": false,
     "input": [
      "def somefunc(arg1, arg2, kwarg1=True, kwarg2=0):\n",
      "    print arg1, arg2, kwarg1, kwarg2\n",
      "somefunc('Hello', [1,2])   # drop kwarg1 and kwarg2\n",
      "somefunc('Hello', [1,2], kwarg1='Hi')\n",
      "somefunc('Hello', [1,2], kwarg2='Hi')\n",
      "somefunc('Hello', [1,2], kwarg2='Hi', kwarg1=6)"
     ],
     "language": "python",
     "metadata": {},
     "outputs": [],
     "prompt_number": 1
    },
    {
     "cell_type": "markdown",
     "metadata": {},
     "source": [
      "If we use `name=value` for *all* arguments *in the call*,\n",
      "their sequence can in fact be arbitrary:"
     ]
    },
    {
     "cell_type": "code",
     "collapsed": false,
     "input": [
      "somefunc(kwarg2='Hello', arg1='Hi', kwarg1=6, arg2=[2])"
     ],
     "language": "python",
     "metadata": {},
     "outputs": [],
     "prompt_number": 1
    },
    {
     "cell_type": "markdown",
     "metadata": {},
     "source": [
      "<!-- !split -->\n",
      "### Example: Mathematical function of one variable, but with additional parameteres\n",
      "\n",
      "Consider a function of $t$, with parameters $A$, $a$, and $\\omega$:"
     ]
    },
    {
     "cell_type": "markdown",
     "metadata": {},
     "source": [
      "$$\n",
      "f(t; A,a, \\omega) = Ae^{-at}\\sin (\\omega t)\n",
      "$$"
     ]
    },
    {
     "cell_type": "markdown",
     "metadata": {},
     "source": [
      "We can implement $f$ in a Python function with $t$ as positional argument and $A$, $a$, and $\\omega$ as keyword arguments:"
     ]
    },
    {
     "cell_type": "code",
     "collapsed": false,
     "input": [
      "from math import pi, exp, sin\n",
      "\n",
      "def f(t, A=1, a=1, omega=2*pi):\n",
      "    return A*exp(-a*t)*sin(omega*t)\n",
      "\n",
      "v1 = f(0.2)\n",
      "v2 = f(0.2, omega=1)\n",
      "v2 = f(0.2, 1, 3)  # same as f(0.2, A=1, a=3)\n",
      "v3 = f(0.2, omega=1, A=2.5)\n",
      "v4 = f(A=5, a=0.1, omega=1, t=1.3)\n",
      "v5 = f(t=0.2, A=9)\n",
      "v6 = f(t=0.2, 9)   # illegal: keyword arg before positional\n"
     ],
     "language": "python",
     "metadata": {},
     "outputs": [],
     "prompt_number": 1
    },
    {
     "cell_type": "markdown",
     "metadata": {},
     "source": [
      "<!-- !split -->\n",
      "### Doc strings\n",
      "\n",
      "Python convention: document the purpose of a function, its arguments, and its return values in a *doc string* - a (triple-quoted) string written right after the function header."
     ]
    },
    {
     "cell_type": "code",
     "collapsed": false,
     "input": [
      "def C2F(C):\n",
      "    \"\"\"Convert Celsius degrees (C) to Fahrenheit.\"\"\"\n",
      "    return (9.0/5)*C + 32\n",
      "\n",
      "def line(x0, y0, x1, y1):\n",
      "    \"\"\"\n",
      "    Compute the coefficients a and b in the mathematical\n",
      "    expression for a straight line y = a*x + b that goes\n",
      "    through two points (x0, y0) and (x1, y1).\n",
      "\n",
      "    x0, y0: a point on the line (floats).\n",
      "    x1, y1: another point on the line (floats).\n",
      "    return: a, b (floats) for the line (y=a*x+b).\n",
      "    \"\"\"\n",
      "    a = (y1 - y0)/(x1 - x0)\n",
      "    b = y0 - a*x0\n",
      "    return a, b\n"
     ],
     "language": "python",
     "metadata": {},
     "outputs": [],
     "prompt_number": 1
    },
    {
     "cell_type": "markdown",
     "metadata": {},
     "source": [
      "<!-- !split -->\n",
      "### Convention for input and output data in functions\n",
      "\n",
      "  * A function can have three types of input and output data:\n",
      "\n",
      "    * input data specified through positional/keyword arguments\n",
      "\n",
      "    * input/output data given as positional/keyword arguments that will be modified and returned\n",
      "\n",
      "    * output data created inside the function\n",
      "\n",
      "\n",
      "  * *All output data are returned, all input data are arguments*"
     ]
    },
    {
     "cell_type": "code",
     "collapsed": false,
     "input": [
      "def somefunc(i1, i2, i3, io4, io5, i6=value1, io7=value2):\n",
      "    # modify io4, io5, io7; compute o1, o2, o3\n",
      "    return o1, o2, o3, io4, io5, io7\n"
     ],
     "language": "python",
     "metadata": {},
     "outputs": [],
     "prompt_number": 1
    },
    {
     "cell_type": "markdown",
     "metadata": {},
     "source": [
      "The function arguments are\n",
      "  * pure input: `i1`, `i2`, `i3`, `i6`\n",
      "\n",
      "  * input and output: `io4`, `io5`, `io7`\n",
      "\n",
      "\n",
      "\n",
      "<!-- !split -->\n",
      "### The main program\n",
      "\n",
      "The *main program* is the set of statements outside functions."
     ]
    },
    {
     "cell_type": "code",
     "collapsed": false,
     "input": [
      "from math import *          # in main\n",
      "\n",
      "def f(x):                   # in main\n",
      "    e = exp(-0.1*x)\n",
      "    s = sin(6*pi*x)\n",
      "    return e*s\n",
      "\n",
      "x = 2                       # in main\n",
      "y = f(x)                    # in main\n",
      "print 'f(%g)=%g' % (x, y)   # in main\n"
     ],
     "language": "python",
     "metadata": {},
     "outputs": [],
     "prompt_number": 1
    },
    {
     "cell_type": "markdown",
     "metadata": {},
     "source": [
      "The execution starts with the first statement in the main program and proceeds line by line, top to bottom.\n",
      "\n",
      "`def` statements define a function, but the statements inside the function are not executed before the function is called.\n",
      "\n",
      "\n",
      "\n",
      "<!-- !split -->\n",
      "### Python functions as arguments to Python functions\n",
      "\n",
      "  * Programs doing calculus frequently need to have functions as arguments\n",
      "    in other functions\n",
      "\n",
      "  * For example:\n",
      "\n",
      "    * numerical integration: $\\int_a^b f(x)dx$\n",
      "\n",
      "    * numerical differentiation: $f'(x)$\n",
      "\n",
      "    * numerical root finding: $f(x)=0$\n",
      "\n",
      "\n",
      "  * All the three functions need $f$, as a Python function\n",
      "\n",
      "Example: numerical computation of $f''(x)$ by"
     ]
    },
    {
     "cell_type": "markdown",
     "metadata": {},
     "source": [
      "$$\n",
      "f''(x) \\approx {f(x-h) - 2f(x) + f(x+h)\\over h^2}\n",
      "$$"
     ]
    },
    {
     "cell_type": "code",
     "collapsed": false,
     "input": [
      "def diff2(f, x, h=1E-6):\n",
      "    r = (f(x-h) - 2*f(x) + f(x+h))/float(h*h)\n",
      "    return r\n"
     ],
     "language": "python",
     "metadata": {},
     "outputs": [],
     "prompt_number": 1
    },
    {
     "cell_type": "markdown",
     "metadata": {},
     "source": [
      "No difficulty with `f` being a function\n",
      "(more complicated in Matlab, C, C++, Fortran, Java, ...).\n",
      "\n",
      "\n",
      "\n",
      "<!-- !split -->\n",
      "### Application of the `diff2` function\n",
      "\n",
      "**Code:**"
     ]
    },
    {
     "cell_type": "code",
     "collapsed": false,
     "input": [
      "def g(t):\n",
      "    return t**(-6)\n",
      "\n",
      "# make table of g''(t) for 14 h values:\n",
      "for k in range(1,15):\n",
      "    h = 10**(-k)\n",
      "    print 'h=%.0e: %.5f' % (h, diff2(g, 1, h))\n"
     ],
     "language": "python",
     "metadata": {},
     "outputs": [],
     "prompt_number": 1
    },
    {
     "cell_type": "markdown",
     "metadata": {},
     "source": [
      "**Output ($g''(1)=42$):**"
     ]
    },
    {
     "cell_type": "code",
     "collapsed": false,
     "input": [
      "h=1e-01: 44.61504\n",
      "h=1e-02: 42.02521\n",
      "h=1e-03: 42.00025\n",
      "h=1e-04: 42.00000\n",
      "h=1e-05: 41.99999\n",
      "h=1e-06: 42.00074\n",
      "h=1e-07: 41.94423\n",
      "h=1e-08: 47.73959\n",
      "h=1e-09: -666.13381\n",
      "h=1e-10: 0.00000\n",
      "h=1e-11: 0.00000\n",
      "h=1e-12: -666133814.77509\n",
      "h=1e-13: 66613381477.50939\n",
      "h=1e-14: 0.00000\n"
     ],
     "language": "python",
     "metadata": {},
     "outputs": [],
     "prompt_number": 1
    },
    {
     "cell_type": "markdown",
     "metadata": {},
     "source": [
      "<!-- !split -->\n",
      "### Round-off errors caused nonsense values in the table\n",
      "\n",
      "  * For $h<10^{-8}$ the results are totally wrong!\n",
      "\n",
      "  * We would expect better approximations as $h$ gets smaller\n",
      "\n",
      "  * Problem 1: for small $h$ we subtract numbers of approx equal size and this gives rise to round-off errors\n",
      "\n",
      "  * Problem 2: for small $h$ the round-off errors are multiplied by a big number\n",
      "\n",
      "  * Remedy: use float variables with more digits\n",
      "\n",
      "  * Python has a (slow) float variable with arbitrary number of digits\n",
      "\n",
      "  * Using 25 digits gives accurate results for $h \\leq 10^{-13}$\n",
      "\n",
      "  * Is this really a problem? Quite seldom - other uncertainies in input data to a mathematical computation makes it usual to have (e.g.) $10^{-2}\\leq h \\leq 10^{-6}$\n",
      "\n",
      "\n",
      "\n",
      "<!-- !split -->\n",
      "### Lambda functions for compact inline function definitions"
     ]
    },
    {
     "cell_type": "code",
     "collapsed": false,
     "input": [
      "def f(x):\n",
      "    return x**2 - 1\n"
     ],
     "language": "python",
     "metadata": {},
     "outputs": [],
     "prompt_number": 1
    },
    {
     "cell_type": "markdown",
     "metadata": {},
     "source": [
      "The *lambda* construction can define this function in one line:"
     ]
    },
    {
     "cell_type": "code",
     "collapsed": false,
     "input": [
      "f = lambda x: x**2 - 1\n"
     ],
     "language": "python",
     "metadata": {},
     "outputs": [],
     "prompt_number": 1
    },
    {
     "cell_type": "markdown",
     "metadata": {},
     "source": [
      "In general,"
     ]
    },
    {
     "cell_type": "code",
     "collapsed": false,
     "input": [
      "somefunct = lambda a1, a2, ...: some_expression\n"
     ],
     "language": "python",
     "metadata": {},
     "outputs": [],
     "prompt_number": 1
    },
    {
     "cell_type": "markdown",
     "metadata": {},
     "source": [
      "is equivalent to"
     ]
    },
    {
     "cell_type": "code",
     "collapsed": false,
     "input": [
      "def somefunc(a1, a2, ...):\n",
      "    return some_expression\n"
     ],
     "language": "python",
     "metadata": {},
     "outputs": [],
     "prompt_number": 1
    },
    {
     "cell_type": "markdown",
     "metadata": {},
     "source": [
      "Lambda functions can be used directly as arguments in function calls:"
     ]
    },
    {
     "cell_type": "code",
     "collapsed": false,
     "input": [
      "value = someotherfunc(lambda x, y, z: x+y+3*z, 4)\n"
     ],
     "language": "python",
     "metadata": {},
     "outputs": [],
     "prompt_number": 1
    },
    {
     "cell_type": "markdown",
     "metadata": {},
     "source": [
      "<!-- !split -->\n",
      "### Example on using a lambda function to save typing\n",
      "\n",
      "Old code:"
     ]
    },
    {
     "cell_type": "code",
     "collapsed": false,
     "input": [
      "def g(t):\n",
      "    return t**(-6)\n",
      "\n",
      "print diff2(g)\n"
     ],
     "language": "python",
     "metadata": {},
     "outputs": [],
     "prompt_number": 1
    },
    {
     "cell_type": "markdown",
     "metadata": {},
     "source": [
      "New, more compact code with lambda:"
     ]
    },
    {
     "cell_type": "code",
     "collapsed": false,
     "input": [
      "print diff2(lambda t: t**(-6))\n"
     ],
     "language": "python",
     "metadata": {},
     "outputs": [],
     "prompt_number": 1
    },
    {
     "cell_type": "markdown",
     "metadata": {},
     "source": [
      "<!-- !split -->\n",
      "### If tests for branching the flow of statements\n",
      "\n",
      "Sometimes we want to peform different actions depending on a condition.\n",
      "Example:"
     ]
    },
    {
     "cell_type": "markdown",
     "metadata": {},
     "source": [
      "$$\n",
      "f(x) = \\left\\lbrace\\begin{array}{ll}\n",
      "\\sin x, & 0\\leq x\\leq \\pi\\\\\n",
      "0, & \\hbox{otherwise}\n",
      "\\end{array}\\right.\n",
      "$$"
     ]
    },
    {
     "cell_type": "markdown",
     "metadata": {},
     "source": [
      "A Python implementation of $f$ needs to test on the value of\n",
      "$x$ and branch into two computations:"
     ]
    },
    {
     "cell_type": "code",
     "collapsed": false,
     "input": [
      "def f(x):\n",
      "    if 0 <= x <= pi:\n",
      "        return sin(x)\n",
      "    else:\n",
      "        return 0\n"
     ],
     "language": "python",
     "metadata": {},
     "outputs": [],
     "prompt_number": 1
    },
    {
     "cell_type": "markdown",
     "metadata": {},
     "source": [
      "In general (the `else` block can be skipped):"
     ]
    },
    {
     "cell_type": "code",
     "collapsed": false,
     "input": [
      "if condition:\n",
      "    <block of statements, executed if condition is True>\n",
      "else:\n",
      "    <block of statements, executed if condition is False>\n"
     ],
     "language": "python",
     "metadata": {},
     "outputs": [],
     "prompt_number": 1
    },
    {
     "cell_type": "markdown",
     "metadata": {},
     "source": [
      "<!-- !split -->\n",
      "### If tests with multiple branches\n",
      "\n",
      "We can test for multiple (here 3) conditions:"
     ]
    },
    {
     "cell_type": "code",
     "collapsed": false,
     "input": [
      "if condition1:\n",
      "    <block of statements>\n",
      "elif condition2:\n",
      "    <block of statements>\n",
      "elif condition3:\n",
      "    <block of statements>\n",
      "else:\n",
      "    <block of statements>\n",
      "<next statement>\n"
     ],
     "language": "python",
     "metadata": {},
     "outputs": [],
     "prompt_number": 1
    },
    {
     "cell_type": "markdown",
     "metadata": {},
     "source": [
      "<!-- !split -->\n",
      "### Example on multiple branching\n",
      "\n",
      "Here is a piecewisely defined function:"
     ]
    },
    {
     "cell_type": "markdown",
     "metadata": {},
     "source": [
      "$$\n",
      "N(x) = \\left\\lbrace\\begin{array}{ll}\n",
      "0, & x<0\\\\\n",
      "x, & 0\\leq x < 1\\\\\n",
      "2-x, & 1\\leq x < 2\\\\\n",
      "0, & x \\geq 2\n",
      "\\end{array}\\right.\n",
      "$$"
     ]
    },
    {
     "cell_type": "code",
     "collapsed": false,
     "input": [
      "def N(x):\n",
      "    if x < 0:\n",
      "        return 0\n",
      "    elif 0 <= x < 1:\n",
      "        return x\n",
      "    elif 1 <= x < 2:\n",
      "        return 2 - x\n",
      "    elif x >= 2:\n",
      "        return 0\n"
     ],
     "language": "python",
     "metadata": {},
     "outputs": [],
     "prompt_number": 1
    },
    {
     "cell_type": "markdown",
     "metadata": {},
     "source": [
      "<!-- !split -->\n",
      "### Inline if tests for shorter code\n",
      "\n",
      "A common construction is"
     ]
    },
    {
     "cell_type": "code",
     "collapsed": false,
     "input": [
      "if condition:\n",
      "    variable = value1\n",
      "else:\n",
      "    variable = value2\n"
     ],
     "language": "python",
     "metadata": {},
     "outputs": [],
     "prompt_number": 1
    },
    {
     "cell_type": "markdown",
     "metadata": {},
     "source": [
      "This test can be placed on one line as an expression:"
     ]
    },
    {
     "cell_type": "code",
     "collapsed": false,
     "input": [
      "variable = (value1 if condition else value2)\n"
     ],
     "language": "python",
     "metadata": {},
     "outputs": [],
     "prompt_number": 1
    },
    {
     "cell_type": "markdown",
     "metadata": {},
     "source": [
      "Example:"
     ]
    },
    {
     "cell_type": "code",
     "collapsed": false,
     "input": [
      "def f(x):\n",
      "    return (sin(x) if 0 <= x <= 2*pi else 0)\n"
     ],
     "language": "python",
     "metadata": {},
     "outputs": [],
     "prompt_number": 1
    },
    {
     "cell_type": "markdown",
     "metadata": {},
     "source": [
      "<!-- !split -->\n",
      "### Test functions\n",
      "\n",
      "**Good habit:**\n",
      "\n",
      "To verify the implementation of a function, write a separate function\n",
      "according to some rules.\n",
      "\n",
      "Example:"
     ]
    },
    {
     "cell_type": "code",
     "collapsed": false,
     "input": [
      "def double(x):\n",
      "    return 2*x\n",
      "\n",
      "def test_double():\n",
      "    x = 4\n",
      "    exact_result = 8\n",
      "    r = double(x)\n",
      "    assert r == exact_result, 'got %s, should have %s' % \\\n",
      "        (r, exact_result)\n"
     ],
     "language": "python",
     "metadata": {},
     "outputs": [],
     "prompt_number": 1
    },
    {
     "cell_type": "markdown",
     "metadata": {},
     "source": [
      "Rules for test functions:\n",
      "\n",
      " * name begins with `test_`\n",
      "\n",
      " * no arguments\n",
      "\n",
      " * must have an `assert condition` statement, where `condition` is `True`\n",
      "   if the test passed and `False` otherwise (can have optional\n",
      "   message, which is printed if test failed)\n",
      "\n",
      "\n",
      "\n",
      "<!-- !split -->\n",
      "### Why write test functions according to these rules?\n",
      "\n",
      " * Easy to recognize where functions are verified\n",
      "\n",
      " * Test frameworks, like nose and pytest, can automatically\n",
      "   run *all* your test functions\n",
      "   (in a folder tree) and report if any bugs have sneaked in"
     ]
    },
    {
     "cell_type": "markdown",
     "metadata": {},
     "source": [
      "        Terminal> nosetests -s .\n",
      "        Terminal> pytest -s .\n"
     ]
    },
    {
     "cell_type": "markdown",
     "metadata": {},
     "source": [
      "A test function as `test_double()` is often referred to as a *unit test*\n",
      "since it tests a small unit (function) of a program. When all unit\n",
      "tests work, the whole program is supposed to work.\n",
      "\n",
      "\n",
      "\n",
      "<!-- !split -->\n",
      "### Summary of if tests and functions\n",
      "\n",
      "If tests:"
     ]
    },
    {
     "cell_type": "code",
     "collapsed": false,
     "input": [
      "if x < 0:\n",
      "    value = -1\n",
      "elif x >= 0 and x <= 1:\n",
      "    value = x\n",
      "else:\n",
      "    value = 1\n"
     ],
     "language": "python",
     "metadata": {},
     "outputs": [],
     "prompt_number": 1
    },
    {
     "cell_type": "markdown",
     "metadata": {},
     "source": [
      "User-defined functions:"
     ]
    },
    {
     "cell_type": "code",
     "collapsed": false,
     "input": [
      "def quadratic_polynomial(x, a, b, c)\n",
      "    value = a*x*x + b*x + c\n",
      "    derivative = 2*a*x + b\n",
      "    return value, derivative\n",
      "\n",
      "# function call:\n",
      "x = 1\n",
      "p, dp = quadratic_polynomial(x, 2, 0.5, 1)\n",
      "p, dp = quadratic_polynomial(x=x, a=-4, b=0.5, c=0)\n"
     ],
     "language": "python",
     "metadata": {},
     "outputs": [],
     "prompt_number": 1
    },
    {
     "cell_type": "markdown",
     "metadata": {},
     "source": [
      "Positional arguments must appear before keyword arguments:"
     ]
    },
    {
     "cell_type": "code",
     "collapsed": false,
     "input": [
      "def f(x, A=1, a=1, w=pi):\n",
      "    return A*exp(-a*x)*sin(w*x)\n"
     ],
     "language": "python",
     "metadata": {},
     "outputs": [],
     "prompt_number": 1
    },
    {
     "cell_type": "markdown",
     "metadata": {},
     "source": [
      "<!-- !split -->\n",
      "### A summarizing example for Chapter 3; problem\n",
      "\n",
      "An integral"
     ]
    },
    {
     "cell_type": "markdown",
     "metadata": {},
     "source": [
      "$$\n",
      "\\int_a^b f(x)dx\n",
      "$$"
     ]
    },
    {
     "cell_type": "markdown",
     "metadata": {},
     "source": [
      "can be approximated by *Simpson's rule*:"
     ]
    },
    {
     "cell_type": "markdown",
     "metadata": {},
     "source": [
      "$$\n",
      "\\begin{align*}\n",
      "\\int_a^b f(x)dx \\approx & {b-a\\over 3n}\\biggl(\n",
      "f(a) + f(b) + 4\\sum_{i=1}^{n/2} f(a + (2i-1)h)\\\\\n",
      "& + 2\\sum_{i=1}^{n/2-1} f(a+2ih)\\biggr)\n",
      "\\end{align*}\n",
      "$$"
     ]
    },
    {
     "cell_type": "markdown",
     "metadata": {},
     "source": [
      "Problem: make a function `Simpson(f, a, b, n=500)` for\n",
      "computing an integral of `f(x)` by Simpson's rule.\n",
      "Call `Simpson(...)` for ${3\\over2}\\int_0^\\pi\\sin^3x dx$ (exact\n",
      "value: 2) for $n=2,6,12,100,500$.\n",
      "\n",
      "\n",
      "\n",
      "<!-- !split -->\n",
      "### The program: function for computing the formula"
     ]
    },
    {
     "cell_type": "code",
     "collapsed": false,
     "input": [
      "def Simpson(f, a, b, n=500):\n",
      "    \"\"\"\n",
      "    Return the approximation of the integral of f\n",
      "    from a to b using Simpson's rule with n intervals.\n",
      "    \"\"\"\n",
      "\n",
      "    h = (b - a)/float(n)\n",
      "\n",
      "    sum1 = 0\n",
      "    for i in range(1, n/2 + 1):\n",
      "        sum1 += f(a + (2*i-1)*h)\n",
      "\n",
      "    sum2 = 0\n",
      "    for i in range(1, n/2):\n",
      "        sum2 += f(a + 2*i*h)\n",
      "\n",
      "    integral = (b-a)/(3*n)*(f(a) + f(b) + 4*sum1 + 2*sum2)\n",
      "    return integral\n"
     ],
     "language": "python",
     "metadata": {},
     "outputs": [],
     "prompt_number": 1
    },
    {
     "cell_type": "markdown",
     "metadata": {},
     "source": [
      "<!-- !split -->\n",
      "### The program: function, now with test for possible errors"
     ]
    },
    {
     "cell_type": "code",
     "collapsed": false,
     "input": [
      "def Simpson(f, a, b, n=500):\n",
      "\n",
      "    if a > b:\n",
      "        print 'Error: a=%g > b=%g' % (a, b)\n",
      "        return None\n",
      "\n",
      "    # Check that n is even\n",
      "    if n % 2 != 0:\n",
      "        print 'Error: n=%d is not an even integer!' % n\n",
      "        n = n+1  # make n even\n",
      "\n",
      "    # as before...\n",
      "    ...\n",
      "    return integral\n"
     ],
     "language": "python",
     "metadata": {},
     "outputs": [],
     "prompt_number": 1
    },
    {
     "cell_type": "markdown",
     "metadata": {},
     "source": [
      "<!-- !split -->\n",
      "### The program: application (and main program)"
     ]
    },
    {
     "cell_type": "code",
     "collapsed": false,
     "input": [
      "def h(x):\n",
      "    return (3./2)*sin(x)**3\n",
      "\n",
      "from math import sin, pi\n",
      "\n",
      "def application():\n",
      "    print 'Integral of 1.5*sin^3 from 0 to pi:'\n",
      "    for n in 2, 6, 12, 100, 500:\n",
      "        approx = Simpson(h, 0, pi, n)\n",
      "        print 'n=%3d, approx=%18.15f, error=%9.2E' % \\\n",
      "              (n, approx, 2-approx)\n",
      "\n",
      "application()\n"
     ],
     "language": "python",
     "metadata": {},
     "outputs": [],
     "prompt_number": 1
    },
    {
     "cell_type": "markdown",
     "metadata": {},
     "source": [
      "<!-- !split -->\n",
      "### The program: verification (with test function)\n",
      "\n",
      "Property of Simpson's rule: 2nd degree polynomials are integrated exactly!"
     ]
    },
    {
     "cell_type": "code",
     "collapsed": false,
     "input": [
      "def test_Simpson():      # rule: no arguments\n",
      "    \"\"\"Check that 2nd-degree polynomials are integrated exactly.\"\"\"\n",
      "    a = 1.5\n",
      "    b = 2.0\n",
      "    n = 8\n",
      "    g = lambda x: 3*x**2 - 7*x + 2.5       # test integrand\n",
      "    G = lambda x: x**3 - 3.5*x**2 + 2.5*x  # integral of g\n",
      "    exact = G(b) - G(a)\n",
      "    approx = Simpson(g, a, b, n)\n",
      "    success = abs(exact - approx) < 1E-14  # tolerance for floats\n",
      "    msg = 'exact=%g, approx=%g' % (exact, approx)\n",
      "    assert success, msg   # assert boolean success condition\n"
     ],
     "language": "python",
     "metadata": {},
     "outputs": [],
     "prompt_number": 1
    },
    {
     "cell_type": "markdown",
     "metadata": {},
     "source": [
      "Can either call `test_Simpson()` or run nose or pytest:"
     ]
    },
    {
     "cell_type": "markdown",
     "metadata": {},
     "source": [
      "        Terminal> nosetests -s Simpson.py\n",
      "        Terminal> pytest -s Simpson.py\n",
      "        ...\n",
      "        Ran 1 test in 0.005s\n",
      "        \n",
      "        OK\n"
     ]
    }
   ],
   "metadata": {}
  }
 ]
}
